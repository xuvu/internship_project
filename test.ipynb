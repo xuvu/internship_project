{
 "cells": [
  {
   "attachments": {},
   "cell_type": "markdown",
   "metadata": {},
   "source": [
    "# Read the infomation from sensors"
   ]
  },
  {
   "cell_type": "code",
   "execution_count": 54,
   "metadata": {},
   "outputs": [],
   "source": [
    "import sensor"
   ]
  },
  {
   "cell_type": "code",
   "execution_count": 57,
   "metadata": {},
   "outputs": [],
   "source": [
    "device01 = sensor.device(\"COM3\",9600) #new object from class"
   ]
  },
  {
   "cell_type": "code",
   "execution_count": null,
   "metadata": {},
   "outputs": [],
   "source": [
    "weight,height,temp = device01.getHeightWeightTemp() #retrive weight,height,temp"
   ]
  },
  {
   "cell_type": "code",
   "execution_count": 58,
   "metadata": {},
   "outputs": [],
   "source": [
    "device01.serialPort.close() #close the connection"
   ]
  },
  {
   "cell_type": "code",
   "execution_count": null,
   "metadata": {},
   "outputs": [],
   "source": [
    "device01.connectAgain() #reset the connection with same parameter"
   ]
  },
  {
   "attachments": {},
   "cell_type": "markdown",
   "metadata": {},
   "source": [
    "# Playground "
   ]
  },
  {
   "cell_type": "code",
   "execution_count": 34,
   "metadata": {},
   "outputs": [
    {
     "name": "stdout",
     "output_type": "stream",
     "text": [
      "166.777\n"
     ]
    }
   ],
   "source": [
    "stringstr = \"W:50.555     H:166.777\"\n",
    "str = stringstr.find('H')\n",
    "stringend = stringstr[str+2:len(stringstr)]\n",
    "end = stringend.find(' ')\n",
    "if end <= 0 : end = len(stringend)\n",
    "print(stringend[0:str+end])\n",
    "#print(end)"
   ]
  },
  {
   "cell_type": "code",
   "execution_count": 5,
   "metadata": {},
   "outputs": [
    {
     "name": "stdout",
     "output_type": "stream",
     "text": [
      "50\n"
     ]
    }
   ],
   "source": [
    "stringstr = \"W:50     H:166\"\n",
    "str = stringstr.find('W')\n",
    "stringend = stringstr[str+2:len(stringstr)]\n",
    "end = stringend.find(' ')\n",
    "if end <= 0 : end = len(stringend)\n",
    "print(stringend[0:str+end])\n",
    "#print(end)"
   ]
  },
  {
   "attachments": {},
   "cell_type": "markdown",
   "metadata": {},
   "source": [
    "# Read infomation from card"
   ]
  },
  {
   "cell_type": "code",
   "execution_count": 58,
   "metadata": {},
   "outputs": [],
   "source": [
    "import ID_card\n",
    "card = ID_card.CardReader() #new object from class\n"
   ]
  },
  {
   "cell_type": "code",
   "execution_count": 72,
   "metadata": {},
   "outputs": [],
   "source": [
    "info = card.readCard() #retrive card's infomation and store in variable 'info'"
   ]
  },
  {
   "cell_type": "code",
   "execution_count": 35,
   "metadata": {},
   "outputs": [
    {
     "data": {
      "text/plain": [
       "0"
      ]
     },
     "execution_count": 35,
     "metadata": {},
     "output_type": "execute_result"
    }
   ],
   "source": [
    "card.checkCard() #check if the card is inserted"
   ]
  },
  {
   "cell_type": "code",
   "execution_count": 60,
   "metadata": {},
   "outputs": [
    {
     "name": "stdout",
     "output_type": "stream",
     "text": [
      "1\n",
      "1\n",
      "1\n",
      "1\n",
      "0\n",
      "0\n",
      "0\n",
      "0\n",
      "0\n",
      "0\n",
      "1\n",
      "1\n"
     ]
    }
   ],
   "source": [
    "try:\n",
    "    while True:\n",
    "        print(card.cardobserver.CardStatus) #<-- this variable corresponds for if the card is inserted or not\n",
    "        time.sleep(1)\n",
    "except KeyboardInterrupt:\n",
    "    pass"
   ]
  },
  {
   "cell_type": "code",
   "execution_count": 66,
   "metadata": {},
   "outputs": [
    {
     "data": {
      "text/plain": [
       "0"
      ]
     },
     "execution_count": 66,
     "metadata": {},
     "output_type": "execute_result"
    }
   ],
   "source": [
    "card.cardobserver.CardStatus"
   ]
  },
  {
   "cell_type": "code",
   "execution_count": 73,
   "metadata": {},
   "outputs": [
    {
     "data": {
      "text/plain": [
       "{'CID': '1341501371261',\n",
       " 'FullnameTH': 'นาย จิระพงษ์  ส่งเสริม',\n",
       " 'FullnameEN': 'Mr. Jiraphong  Songsoem',\n",
       " 'Date of birth': '25431105',\n",
       " 'Gender': '1',\n",
       " 'Card Issuer': 'อำเภอสำโรง/อุบลราชธานี',\n",
       " 'Issue Date': '25590323',\n",
       " 'Expire Date': '25671104',\n",
       " 'Address': '188 หมู่ที่ 12    ตำบลสำโรง อำเภอสำโรง จังหวัดอุบลราชธานี'}"
      ]
     },
     "execution_count": 73,
     "metadata": {},
     "output_type": "execute_result"
    }
   ],
   "source": [
    "info"
   ]
  },
  {
   "cell_type": "code",
   "execution_count": 68,
   "metadata": {},
   "outputs": [],
   "source": [
    "del info"
   ]
  },
  {
   "cell_type": "code",
   "execution_count": null,
   "metadata": {},
   "outputs": [],
   "source": [
    "info['CID'] #เลขบัตร\n",
    "info['FullnameTH'] #ชื่อไทย\n",
    "info['FullnameEN'] #ชื่ออังกฤษ\n",
    "info['Gender'] #เพศ\n",
    "info['Card Issuer'] #ผู้ออกบัตร\n",
    "info['Issue Date'] #วันออก\n",
    "info['Expire Date'] #วันหมด\n",
    "info['Address'] #ที่อยู่"
   ]
  },
  {
   "attachments": {},
   "cell_type": "markdown",
   "metadata": {},
   "source": [
    "# card, sensor and Send infomation "
   ]
  },
  {
   "cell_type": "code",
   "execution_count": 1,
   "metadata": {},
   "outputs": [],
   "source": [
    "import connect\n",
    "import ID_card\n",
    "import sensor"
   ]
  },
  {
   "cell_type": "code",
   "execution_count": 2,
   "metadata": {},
   "outputs": [],
   "source": [
    "conn = connect.communication(\"192.168.67.58\",\"student\",\"stu2022\",\"vitalsign\") #new instance of connection"
   ]
  },
  {
   "cell_type": "code",
   "execution_count": 3,
   "metadata": {},
   "outputs": [
    {
     "data": {
      "text/plain": [
       "True"
      ]
     },
     "execution_count": 3,
     "metadata": {},
     "output_type": "execute_result"
    }
   ],
   "source": [
    "conn.dataBaseConnection.is_connected() #check for connection status"
   ]
  },
  {
   "cell_type": "code",
   "execution_count": 4,
   "metadata": {},
   "outputs": [],
   "source": [
    "device01 = sensor.device(\"COM3\",9600) #new object from class\n",
    "card = ID_card.CardReader() #new object from class"
   ]
  },
  {
   "cell_type": "code",
   "execution_count": null,
   "metadata": {},
   "outputs": [],
   "source": [
    "conn.sendInfo(CardReader=card,device=device01)"
   ]
  },
  {
   "cell_type": "code",
   "execution_count": 6,
   "metadata": {},
   "outputs": [
    {
     "name": "stdout",
     "output_type": "stream",
     "text": [
      "Context established!\n",
      "PCSC Readers: ['Generic EMV Smartcard Reader 0']\n",
      "----- Current reader and card states are: -------\n",
      "Generic EMV Smartcard Reader 0 \n",
      "\tReader empty\n",
      "\tState changed\n",
      "----- Please insert or remove a card ------------\n",
      "----- New reader and card states are: -----------\n",
      "Generic EMV Smartcard Reader 0 0x3B 0x79 0x96 0x00 0x00 0x54 0x48 0x20 0x4E 0x49 0x44 0x20 0x31 0x33\n",
      "\tCard present in reader\n",
      "\tState changed\n",
      "Released context.\n",
      "press Enter to continue\n"
     ]
    }
   ],
   "source": [
    "\"\"\"\n",
    "Sample for python PCSC wrapper module: Detect card insertion/removal\n",
    "\n",
    "__author__ = \"http://www.gemalto.com\"\n",
    "\n",
    "Copyright 2001-2012 gemalto\n",
    "Author: Jean-Daniel Aussel, mailto:jean-daniel.aussel@gemalto.com\n",
    "Copyright 2010 Ludovic Rousseau\n",
    "Author: Ludovic Rousseau, mailto:ludovic.rousseau@free.fr\n",
    "\n",
    "This file is part of pyscard.\n",
    "\n",
    "pyscard is free software; you can redistribute it and/or modify\n",
    "it under the terms of the GNU Lesser General Public License as published by\n",
    "the Free Software Foundation; either version 2.1 of the License, or\n",
    "(at your option) any later version.\n",
    "\n",
    "pyscard is distributed in the hope that it will be useful,\n",
    "but WITHOUT ANY WARRANTY; without even the implied warranty of\n",
    "MERCHANTABILITY or FITNESS FOR A PARTICULAR PURPOSE.  See the\n",
    "GNU Lesser General Public License for more details.\n",
    "\n",
    "You should have received a copy of the GNU Lesser General Public License\n",
    "along with pyscard; if not, write to the Free Software\n",
    "Foundation, Inc., 51 Franklin St, Fifth Floor, Boston, MA  02110-1301  USA\n",
    "\"\"\"\n",
    "\n",
    "from smartcard.scard import *\n",
    "import smartcard.util\n",
    "\n",
    "srTreeATR = \\\n",
    "    [0x3B, 0x77, 0x94, 0x00, 0x00, 0x82, 0x30, 0x00, 0x13, 0x6C, 0x9F, 0x22]\n",
    "srTreeMask = \\\n",
    "    [0xFF, 0xFF, 0xFF, 0xFF, 0xFF, 0xFF, 0xFF, 0xFF, 0xFF, 0xFF, 0xFF, 0xFF]\n",
    "\n",
    "\n",
    "def printstate(state):\n",
    "    reader, eventstate, atr = state\n",
    "    print(reader + \" \" + smartcard.util.toHexString(atr, smartcard.util.HEX))\n",
    "    if eventstate & SCARD_STATE_ATRMATCH:\n",
    "        print('\\tCard found')\n",
    "    if eventstate & SCARD_STATE_UNAWARE:\n",
    "        print('\\tState unware')\n",
    "    if eventstate & SCARD_STATE_IGNORE:\n",
    "        print('\\tIgnore reader')\n",
    "    if eventstate & SCARD_STATE_UNAVAILABLE:\n",
    "        print('\\tReader unavailable')\n",
    "    if eventstate & SCARD_STATE_EMPTY:\n",
    "        print('\\tReader empty')\n",
    "    if eventstate & SCARD_STATE_PRESENT:\n",
    "        print('\\tCard present in reader')\n",
    "    if eventstate & SCARD_STATE_EXCLUSIVE:\n",
    "        print('\\tCard allocated for exclusive use by another application')\n",
    "    if eventstate & SCARD_STATE_INUSE:\n",
    "        print('\\tCard in used by another application but can be shared')\n",
    "    if eventstate & SCARD_STATE_MUTE:\n",
    "        print('\\tCard is mute')\n",
    "    if eventstate & SCARD_STATE_CHANGED:\n",
    "        print('\\tState changed')\n",
    "    if eventstate & SCARD_STATE_UNKNOWN:\n",
    "        print('\\tState unknowned')\n",
    "\n",
    "\n",
    "try:\n",
    "    hresult, hcontext = SCardEstablishContext(SCARD_SCOPE_USER)\n",
    "    if hresult != SCARD_S_SUCCESS:\n",
    "        raise error(\n",
    "            'Failed to establish context: ' +\n",
    "            SCardGetErrorMessage(hresult))\n",
    "    print('Context established!')\n",
    "\n",
    "    try:\n",
    "        hresult, readers = SCardListReaders(hcontext, [])\n",
    "        if hresult != SCARD_S_SUCCESS:\n",
    "            raise error(\n",
    "                'Failed to list readers: ' +\n",
    "                SCardGetErrorMessage(hresult))\n",
    "        print('PCSC Readers:', readers)\n",
    "\n",
    "        readerstates = []\n",
    "        for i in range(len(readers)):\n",
    "            readerstates += [(readers[i], SCARD_STATE_UNAWARE)]\n",
    "\n",
    "        print('----- Current reader and card states are: -------')\n",
    "        hresult, newstates = SCardGetStatusChange(hcontext, 0, readerstates)\n",
    "        for i in newstates:\n",
    "            printstate(i)\n",
    "\n",
    "        print('----- Please insert or remove a card ------------')\n",
    "        hresult, newstates = SCardGetStatusChange(\n",
    "                                hcontext,\n",
    "                                INFINITE,\n",
    "                                newstates)\n",
    "\n",
    "        print('----- New reader and card states are: -----------')\n",
    "        for i in newstates:\n",
    "            printstate(i)\n",
    "\n",
    "    finally:\n",
    "        hresult = SCardReleaseContext(hcontext)\n",
    "        if hresult != SCARD_S_SUCCESS:\n",
    "            raise error(\n",
    "                'Failed to release context: ' +\n",
    "                SCardGetErrorMessage(hresult))\n",
    "        print('Released context.')\n",
    "\n",
    "except error as e:\n",
    "    print(e)"
   ]
  },
  {
   "attachments": {},
   "cell_type": "markdown",
   "metadata": {},
   "source": [
    "# Multiprocessing"
   ]
  },
  {
   "cell_type": "code",
   "execution_count": 53,
   "metadata": {},
   "outputs": [],
   "source": [
    "from multiprocessing import Process\n",
    "import os\n",
    "\n",
    "def info(title):\n",
    "    print(title)\n",
    "    print('module name:', __name__)\n",
    "    print('parent process:', os.getppid())\n",
    "    print('process id:', os.getpid())\n",
    "\n",
    "def f(name):\n",
    "    info('function f')\n",
    "    print('hello', name)\n",
    "\n",
    "\n",
    "p = Process(target=f, args=('bob',))\n",
    "p.start()\n",
    "p.join()\n"
   ]
  }
 ],
 "metadata": {
  "kernelspec": {
   "display_name": "tf",
   "language": "python",
   "name": "python3"
  },
  "language_info": {
   "codemirror_mode": {
    "name": "ipython",
    "version": 3
   },
   "file_extension": ".py",
   "mimetype": "text/x-python",
   "name": "python",
   "nbconvert_exporter": "python",
   "pygments_lexer": "ipython3",
   "version": "3.10.8"
  },
  "orig_nbformat": 4,
  "vscode": {
   "interpreter": {
    "hash": "df1ef98ff02d0e79d5fc6da1f6e47830675cf722aaa2d57a6150727c55a62a98"
   }
  }
 },
 "nbformat": 4,
 "nbformat_minor": 2
}
