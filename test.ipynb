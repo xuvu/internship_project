{
 "cells": [
  {
   "attachments": {},
   "cell_type": "markdown",
   "metadata": {},
   "source": [
    "# Read the infomation from sensors"
   ]
  },
  {
   "cell_type": "code",
   "execution_count": 54,
   "metadata": {},
   "outputs": [],
   "source": [
    "import sensor"
   ]
  },
  {
   "cell_type": "code",
   "execution_count": 57,
   "metadata": {},
   "outputs": [],
   "source": [
    "device01 = sensor.device(\"COM3\",9600) #new object from class"
   ]
  },
  {
   "cell_type": "code",
   "execution_count": null,
   "metadata": {},
   "outputs": [],
   "source": [
    "weight,height,temp = device01.getHeightWeightTemp() #retrive weight,height,temp"
   ]
  },
  {
   "cell_type": "code",
   "execution_count": 58,
   "metadata": {},
   "outputs": [],
   "source": [
    "device01.serialPort.close() #close the connection"
   ]
  },
  {
   "cell_type": "code",
   "execution_count": null,
   "metadata": {},
   "outputs": [],
   "source": [
    "device01.connectAgain() #reset the connection with same parameter"
   ]
  },
  {
   "attachments": {},
   "cell_type": "markdown",
   "metadata": {},
   "source": [
    "# Playground "
   ]
  },
  {
   "cell_type": "code",
   "execution_count": 34,
   "metadata": {},
   "outputs": [
    {
     "name": "stdout",
     "output_type": "stream",
     "text": [
      "166.777\n"
     ]
    }
   ],
   "source": [
    "stringstr = \"W:50.555     H:166.777\"\n",
    "str = stringstr.find('H')\n",
    "stringend = stringstr[str+2:len(stringstr)]\n",
    "end = stringend.find(' ')\n",
    "if end <= 0 : end = len(stringend)\n",
    "print(stringend[0:str+end])\n",
    "#print(end)"
   ]
  },
  {
   "cell_type": "code",
   "execution_count": 5,
   "metadata": {},
   "outputs": [
    {
     "name": "stdout",
     "output_type": "stream",
     "text": [
      "50\n"
     ]
    }
   ],
   "source": [
    "stringstr = \"W:50     H:166\"\n",
    "str = stringstr.find('W')\n",
    "stringend = stringstr[str+2:len(stringstr)]\n",
    "end = stringend.find(' ')\n",
    "if end <= 0 : end = len(stringend)\n",
    "print(stringend[0:str+end])\n",
    "#print(end)"
   ]
  },
  {
   "attachments": {},
   "cell_type": "markdown",
   "metadata": {},
   "source": [
    "# Read infomation from card"
   ]
  },
  {
   "cell_type": "code",
   "execution_count": 10,
   "metadata": {},
   "outputs": [],
   "source": [
    "import ID_card\n",
    "\n",
    "card = ID_card.CardReader() #new object from class\n",
    "info = card.readCard() #retrive card's infomation and store in variable 'info'"
   ]
  },
  {
   "cell_type": "code",
   "execution_count": null,
   "metadata": {},
   "outputs": [],
   "source": [
    "info"
   ]
  },
  {
   "cell_type": "code",
   "execution_count": null,
   "metadata": {},
   "outputs": [],
   "source": [
    "info['CID'] #เลขบัตร\n",
    "info['FullnameTH'] #ชื่อไทย\n",
    "info['FullnameEN'] #ชื่ออังกฤษ\n",
    "info['Gender'] #เพศ\n",
    "info['Card Issuer'] #ผู้ออกบัตร\n",
    "info['Issue Date'] #วันออก\n",
    "info['Expire Date'] #วันหมด\n",
    "info['Address'] #ที่อยู่"
   ]
  },
  {
   "attachments": {},
   "cell_type": "markdown",
   "metadata": {},
   "source": [
    "# card, sensor and Send infomation "
   ]
  },
  {
   "cell_type": "code",
   "execution_count": 1,
   "metadata": {},
   "outputs": [],
   "source": [
    "import connect\n",
    "import ID_card\n",
    "import sensor"
   ]
  },
  {
   "cell_type": "code",
   "execution_count": 2,
   "metadata": {},
   "outputs": [],
   "source": [
    "conn = connect.communication(\"192.168.67.58\",\"student\",\"stu2022\",\"vitalsign\") #new instance of connection"
   ]
  },
  {
   "cell_type": "code",
   "execution_count": 3,
   "metadata": {},
   "outputs": [
    {
     "data": {
      "text/plain": [
       "True"
      ]
     },
     "execution_count": 3,
     "metadata": {},
     "output_type": "execute_result"
    }
   ],
   "source": [
    "conn.dataBaseConnection.is_connected() #check for connection status"
   ]
  },
  {
   "cell_type": "code",
   "execution_count": 4,
   "metadata": {},
   "outputs": [],
   "source": [
    "device01 = sensor.device(\"COM3\",9600) #new object from class\n",
    "card = ID_card.CardReader() #new object from class"
   ]
  },
  {
   "cell_type": "code",
   "execution_count": null,
   "metadata": {},
   "outputs": [],
   "source": [
    "conn.sendInfo(CardReader=card,device=device01)"
   ]
  }
 ],
 "metadata": {
  "kernelspec": {
   "display_name": "tf",
   "language": "python",
   "name": "python3"
  },
  "language_info": {
   "codemirror_mode": {
    "name": "ipython",
    "version": 3
   },
   "file_extension": ".py",
   "mimetype": "text/x-python",
   "name": "python",
   "nbconvert_exporter": "python",
   "pygments_lexer": "ipython3",
   "version": "3.10.8"
  },
  "orig_nbformat": 4,
  "vscode": {
   "interpreter": {
    "hash": "df1ef98ff02d0e79d5fc6da1f6e47830675cf722aaa2d57a6150727c55a62a98"
   }
  }
 },
 "nbformat": 4,
 "nbformat_minor": 2
}
